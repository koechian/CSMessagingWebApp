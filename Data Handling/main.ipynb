{
 "cells": [
  {
   "cell_type": "markdown",
   "metadata": {},
   "source": [
    "## Objectives\n",
    "- Create random names for the messages\n",
    "- Create random message id's for the messages\n",
    "- Format table fields to mimic database schema"
   ]
  },
  {
   "cell_type": "markdown",
   "metadata": {},
   "source": [
    "## 1. Read data and get Kenyan Names "
   ]
  },
  {
   "cell_type": "code",
   "execution_count": 43,
   "metadata": {},
   "outputs": [],
   "source": [
    "import pandas as pd\n",
    "from faker import Faker \n",
    "import random\n",
    "import uuid\n",
    "from datetime import datetime"
   ]
  },
  {
   "cell_type": "code",
   "execution_count": 44,
   "metadata": {},
   "outputs": [
    {
     "data": {
      "text/html": [
       "<div>\n",
       "<style scoped>\n",
       "    .dataframe tbody tr th:only-of-type {\n",
       "        vertical-align: middle;\n",
       "    }\n",
       "\n",
       "    .dataframe tbody tr th {\n",
       "        vertical-align: top;\n",
       "    }\n",
       "\n",
       "    .dataframe thead th {\n",
       "        text-align: right;\n",
       "    }\n",
       "</style>\n",
       "<table border=\"1\" class=\"dataframe\">\n",
       "  <thead>\n",
       "    <tr style=\"text-align: right;\">\n",
       "      <th></th>\n",
       "      <th>User ID</th>\n",
       "      <th>Timestamp (UTC)</th>\n",
       "      <th>Message Body</th>\n",
       "    </tr>\n",
       "  </thead>\n",
       "  <tbody>\n",
       "    <tr>\n",
       "      <th>0</th>\n",
       "      <td>208</td>\n",
       "      <td>2017-02-01 19:29:05</td>\n",
       "      <td>So it means if u pay ua loan before the due da...</td>\n",
       "    </tr>\n",
       "    <tr>\n",
       "      <th>1</th>\n",
       "      <td>208</td>\n",
       "      <td>2017-02-01 19:21:58</td>\n",
       "      <td>The dates of payment are still indicated n no ...</td>\n",
       "    </tr>\n",
       "    <tr>\n",
       "      <th>2</th>\n",
       "      <td>208</td>\n",
       "      <td>2017-02-01 19:21:18</td>\n",
       "      <td>Why was my application rejected</td>\n",
       "    </tr>\n",
       "    <tr>\n",
       "      <th>3</th>\n",
       "      <td>208</td>\n",
       "      <td>2017-02-01 19:05:45</td>\n",
       "      <td>Hi branch I requested my number to remain the ...</td>\n",
       "    </tr>\n",
       "    <tr>\n",
       "      <th>4</th>\n",
       "      <td>218</td>\n",
       "      <td>2017-02-01 16:08:21</td>\n",
       "      <td>I said ill pay 5th esther camoon.. Infact you ...</td>\n",
       "    </tr>\n",
       "    <tr>\n",
       "      <th>5</th>\n",
       "      <td>218</td>\n",
       "      <td>2017-02-01 14:07:37</td>\n",
       "      <td>I  will pay on sunday of 5th and i will pay al...</td>\n",
       "    </tr>\n",
       "    <tr>\n",
       "      <th>6</th>\n",
       "      <td>218</td>\n",
       "      <td>2017-02-01 12:07:07</td>\n",
       "      <td>I have a late source of salary i expected but ...</td>\n",
       "    </tr>\n",
       "    <tr>\n",
       "      <th>7</th>\n",
       "      <td>444</td>\n",
       "      <td>2017-02-02 15:57:36</td>\n",
       "      <td>I will clear my loan before 15nth,kindly bear ...</td>\n",
       "    </tr>\n",
       "    <tr>\n",
       "      <th>8</th>\n",
       "      <td>676</td>\n",
       "      <td>2017-02-03 14:23:45</td>\n",
       "      <td>Hi can i get the batch number</td>\n",
       "    </tr>\n",
       "    <tr>\n",
       "      <th>9</th>\n",
       "      <td>676</td>\n",
       "      <td>2017-02-03 14:23:25</td>\n",
       "      <td>Hi can i get the batch number pl</td>\n",
       "    </tr>\n",
       "  </tbody>\n",
       "</table>\n",
       "</div>"
      ],
      "text/plain": [
       "   User ID      Timestamp (UTC)  \\\n",
       "0      208  2017-02-01 19:29:05   \n",
       "1      208  2017-02-01 19:21:58   \n",
       "2      208  2017-02-01 19:21:18   \n",
       "3      208  2017-02-01 19:05:45   \n",
       "4      218  2017-02-01 16:08:21   \n",
       "5      218  2017-02-01 14:07:37   \n",
       "6      218  2017-02-01 12:07:07   \n",
       "7      444  2017-02-02 15:57:36   \n",
       "8      676  2017-02-03 14:23:45   \n",
       "9      676  2017-02-03 14:23:25   \n",
       "\n",
       "                                        Message Body  \n",
       "0  So it means if u pay ua loan before the due da...  \n",
       "1  The dates of payment are still indicated n no ...  \n",
       "2                    Why was my application rejected  \n",
       "3  Hi branch I requested my number to remain the ...  \n",
       "4  I said ill pay 5th esther camoon.. Infact you ...  \n",
       "5  I  will pay on sunday of 5th and i will pay al...  \n",
       "6  I have a late source of salary i expected but ...  \n",
       "7  I will clear my loan before 15nth,kindly bear ...  \n",
       "8                      Hi can i get the batch number  \n",
       "9                   Hi can i get the batch number pl  "
      ]
     },
     "execution_count": 44,
     "metadata": {},
     "output_type": "execute_result"
    }
   ],
   "source": [
    "df = pd.read_csv('GeneralistRails_Project_MessageData.csv')\n",
    "df.head(10)"
   ]
  },
  {
   "cell_type": "code",
   "execution_count": 45,
   "metadata": {},
   "outputs": [
    {
     "data": {
      "text/plain": [
       "(100, 3)"
      ]
     },
     "execution_count": 45,
     "metadata": {},
     "output_type": "execute_result"
    }
   ],
   "source": [
    "backup = df.copy()\n",
    "\n",
    "df.shape"
   ]
  },
  {
   "cell_type": "code",
   "execution_count": 46,
   "metadata": {},
   "outputs": [
    {
     "data": {
      "text/plain": [
       "(100, 3)"
      ]
     },
     "execution_count": 46,
     "metadata": {},
     "output_type": "execute_result"
    }
   ],
   "source": [
    "# Soft reset point\n",
    "df = backup.copy()\n",
    "df.shape"
   ]
  },
  {
   "cell_type": "markdown",
   "metadata": {},
   "source": [
    "Using Faker to fake first names and conjoin them with a list of kenyan ethnic names"
   ]
  },
  {
   "cell_type": "code",
   "execution_count": 47,
   "metadata": {},
   "outputs": [
    {
     "data": {
      "text/plain": [
       "'Kiplagat'"
      ]
     },
     "execution_count": 47,
     "metadata": {},
     "output_type": "execute_result"
    }
   ],
   "source": [
    "kenyanNames = pd.read_json('kenyan_names.json')\n",
    "# kenyanNames.shape\n",
    "kenyanNames['names'][1]"
   ]
  },
  {
   "cell_type": "code",
   "execution_count": 48,
   "metadata": {},
   "outputs": [
    {
     "data": {
      "text/plain": [
       "'Krista'"
      ]
     },
     "execution_count": 48,
     "metadata": {},
     "output_type": "execute_result"
    }
   ],
   "source": [
    "fk = Faker()\n",
    "fk.name().split(\" \")[0]"
   ]
  },
  {
   "cell_type": "markdown",
   "metadata": {},
   "source": [
    "## 2. Generating fake names for users"
   ]
  },
  {
   "cell_type": "code",
   "execution_count": 49,
   "metadata": {},
   "outputs": [],
   "source": [
    "def generateName():\n",
    "    name = fk.name().split(\" \")[0] + ' ' +  kenyanNames['names'][random.randint(0,84)]\n",
    "    return name"
   ]
  },
  {
   "cell_type": "markdown",
   "metadata": {},
   "source": [
    "Iterating through the dataset and adding the names. \n",
    "We also check if the user id is the same so that one user id has the same name."
   ]
  },
  {
   "cell_type": "code",
   "execution_count": 50,
   "metadata": {},
   "outputs": [
    {
     "data": {
      "text/html": [
       "<div>\n",
       "<style scoped>\n",
       "    .dataframe tbody tr th:only-of-type {\n",
       "        vertical-align: middle;\n",
       "    }\n",
       "\n",
       "    .dataframe tbody tr th {\n",
       "        vertical-align: top;\n",
       "    }\n",
       "\n",
       "    .dataframe thead th {\n",
       "        text-align: right;\n",
       "    }\n",
       "</style>\n",
       "<table border=\"1\" class=\"dataframe\">\n",
       "  <thead>\n",
       "    <tr style=\"text-align: right;\">\n",
       "      <th></th>\n",
       "      <th>User ID</th>\n",
       "      <th>Timestamp (UTC)</th>\n",
       "      <th>Message Body</th>\n",
       "      <th>Name</th>\n",
       "    </tr>\n",
       "  </thead>\n",
       "  <tbody>\n",
       "    <tr>\n",
       "      <th>71</th>\n",
       "      <td>4442</td>\n",
       "      <td>2017-02-02 14:22:54</td>\n",
       "      <td>I require a feedback plz</td>\n",
       "      <td>Patrick Kiptanui</td>\n",
       "    </tr>\n",
       "    <tr>\n",
       "      <th>97</th>\n",
       "      <td>8392</td>\n",
       "      <td>2017-02-02 13:51:56</td>\n",
       "      <td>I been with u For long an I made amistake but ...</td>\n",
       "      <td>April Kosgei</td>\n",
       "    </tr>\n",
       "    <tr>\n",
       "      <th>75</th>\n",
       "      <td>4708</td>\n",
       "      <td>2017-02-02 5:47:09</td>\n",
       "      <td>I cleared last year for how long</td>\n",
       "      <td>Angela Ouma</td>\n",
       "    </tr>\n",
       "    <tr>\n",
       "      <th>78</th>\n",
       "      <td>5480</td>\n",
       "      <td>2017-02-03 12:28:31</td>\n",
       "      <td>Hi branch,  Yes I have a problem which I thoug...</td>\n",
       "      <td>Laurie Oluoch</td>\n",
       "    </tr>\n",
       "    <tr>\n",
       "      <th>87</th>\n",
       "      <td>7140</td>\n",
       "      <td>2017-02-02 13:06:55</td>\n",
       "      <td>Why cant i have a loan now yet i have cleared ...</td>\n",
       "      <td>Jennifer Obiero</td>\n",
       "    </tr>\n",
       "    <tr>\n",
       "      <th>27</th>\n",
       "      <td>2035</td>\n",
       "      <td>2017-02-02 5:59:11</td>\n",
       "      <td>What am i supposed to do after paying in order...</td>\n",
       "      <td>Matthew Muthoni</td>\n",
       "    </tr>\n",
       "    <tr>\n",
       "      <th>23</th>\n",
       "      <td>1481</td>\n",
       "      <td>2017-02-03 1:52:01</td>\n",
       "      <td>Hello. Why can't you make the loan payment opt...</td>\n",
       "      <td>Erik Kosgei</td>\n",
       "    </tr>\n",
       "    <tr>\n",
       "      <th>21</th>\n",
       "      <td>1354</td>\n",
       "      <td>2017-02-02 21:33:40</td>\n",
       "      <td>Thank you for the loans i have benefitted from...</td>\n",
       "      <td>Joanna Oluoch</td>\n",
       "    </tr>\n",
       "    <tr>\n",
       "      <th>30</th>\n",
       "      <td>2126</td>\n",
       "      <td>2017-02-01 15:52:19</td>\n",
       "      <td>And have no current loan... Im upto date ...</td>\n",
       "      <td>Jake Owiti</td>\n",
       "    </tr>\n",
       "    <tr>\n",
       "      <th>49</th>\n",
       "      <td>3112</td>\n",
       "      <td>2017-02-03 8:58:06</td>\n",
       "      <td>Within aweek,specifically when plz</td>\n",
       "      <td>James Kiplagat</td>\n",
       "    </tr>\n",
       "  </tbody>\n",
       "</table>\n",
       "</div>"
      ],
      "text/plain": [
       "    User ID      Timestamp (UTC)  \\\n",
       "71     4442  2017-02-02 14:22:54   \n",
       "97     8392  2017-02-02 13:51:56   \n",
       "75     4708   2017-02-02 5:47:09   \n",
       "78     5480  2017-02-03 12:28:31   \n",
       "87     7140  2017-02-02 13:06:55   \n",
       "27     2035   2017-02-02 5:59:11   \n",
       "23     1481   2017-02-03 1:52:01   \n",
       "21     1354  2017-02-02 21:33:40   \n",
       "30     2126  2017-02-01 15:52:19   \n",
       "49     3112   2017-02-03 8:58:06   \n",
       "\n",
       "                                         Message Body              Name  \n",
       "71                           I require a feedback plz  Patrick Kiptanui  \n",
       "97  I been with u For long an I made amistake but ...      April Kosgei  \n",
       "75                   I cleared last year for how long       Angela Ouma  \n",
       "78  Hi branch,  Yes I have a problem which I thoug...     Laurie Oluoch  \n",
       "87  Why cant i have a loan now yet i have cleared ...   Jennifer Obiero  \n",
       "27  What am i supposed to do after paying in order...   Matthew Muthoni  \n",
       "23  Hello. Why can't you make the loan payment opt...       Erik Kosgei  \n",
       "21  Thank you for the loans i have benefitted from...     Joanna Oluoch  \n",
       "30       And have no current loan... Im upto date ...        Jake Owiti  \n",
       "49                 Within aweek,specifically when plz    James Kiplagat  "
      ]
     },
     "execution_count": 50,
     "metadata": {},
     "output_type": "execute_result"
    }
   ],
   "source": [
    "names = {}\n",
    "for index, row in df.iterrows():\n",
    "        user_id = row['User ID']\n",
    "        if user_id not in names:\n",
    "            names[user_id] = generateName()  # Generate a name if not already generated for this user ID\n",
    "        df.at[index, 'Name'] = names[user_id]\n",
    "\n",
    "df.sample(10)"
   ]
  },
  {
   "cell_type": "markdown",
   "metadata": {},
   "source": [
    "## 3. Generating random Message ID's for each message "
   ]
  },
  {
   "cell_type": "code",
   "execution_count": 51,
   "metadata": {},
   "outputs": [
    {
     "data": {
      "text/html": [
       "<div>\n",
       "<style scoped>\n",
       "    .dataframe tbody tr th:only-of-type {\n",
       "        vertical-align: middle;\n",
       "    }\n",
       "\n",
       "    .dataframe tbody tr th {\n",
       "        vertical-align: top;\n",
       "    }\n",
       "\n",
       "    .dataframe thead th {\n",
       "        text-align: right;\n",
       "    }\n",
       "</style>\n",
       "<table border=\"1\" class=\"dataframe\">\n",
       "  <thead>\n",
       "    <tr style=\"text-align: right;\">\n",
       "      <th></th>\n",
       "      <th>User ID</th>\n",
       "      <th>Timestamp (UTC)</th>\n",
       "      <th>Message Body</th>\n",
       "      <th>Name</th>\n",
       "      <th>Message ID</th>\n",
       "    </tr>\n",
       "  </thead>\n",
       "  <tbody>\n",
       "    <tr>\n",
       "      <th>86</th>\n",
       "      <td>6884</td>\n",
       "      <td>2017-02-01 19:40:52</td>\n",
       "      <td>OK I have paid all of it</td>\n",
       "      <td>Yolanda Ochieng</td>\n",
       "      <td>52a3bd79-43fa-451b-a862-2036703c993f</td>\n",
       "    </tr>\n",
       "    <tr>\n",
       "      <th>88</th>\n",
       "      <td>7457</td>\n",
       "      <td>2017-02-01 22:26:17</td>\n",
       "      <td>How do I get a loan</td>\n",
       "      <td>Andrew Obiero</td>\n",
       "      <td>6ab3b5c3-cbe7-401d-b89a-4b4512ce5ecd</td>\n",
       "    </tr>\n",
       "    <tr>\n",
       "      <th>23</th>\n",
       "      <td>1481</td>\n",
       "      <td>2017-02-03 1:52:01</td>\n",
       "      <td>Hello. Why can't you make the loan payment opt...</td>\n",
       "      <td>Erik Kosgei</td>\n",
       "      <td>0eed2257-288c-4c8c-af99-18217cf1894d</td>\n",
       "    </tr>\n",
       "    <tr>\n",
       "      <th>35</th>\n",
       "      <td>2126</td>\n",
       "      <td>2017-02-01 15:33:06</td>\n",
       "      <td>Why has loan been rejected?</td>\n",
       "      <td>Jake Owiti</td>\n",
       "      <td>98855882-9878-4f72-9069-90b0a8a43013</td>\n",
       "    </tr>\n",
       "    <tr>\n",
       "      <th>54</th>\n",
       "      <td>3112</td>\n",
       "      <td>2017-02-02 11:54:53</td>\n",
       "      <td>Can I have direct contact thus I keep untouche...</td>\n",
       "      <td>James Kiplagat</td>\n",
       "      <td>0b764fe7-e885-4477-bb3c-eeb431d96cb4</td>\n",
       "    </tr>\n",
       "    <tr>\n",
       "      <th>77</th>\n",
       "      <td>5297</td>\n",
       "      <td>2017-02-03 15:38:22</td>\n",
       "      <td>it can't be 1264 had paid 400 earlier pls upda...</td>\n",
       "      <td>Christina Wambui</td>\n",
       "      <td>bb6dc14f-8556-4ec3-a395-d63b0e35bb64</td>\n",
       "    </tr>\n",
       "    <tr>\n",
       "      <th>15</th>\n",
       "      <td>1155</td>\n",
       "      <td>2017-02-03 7:01:34</td>\n",
       "      <td>Hello,our salaries have been delayed but hopef...</td>\n",
       "      <td>Marvin Kiplagat</td>\n",
       "      <td>8f930a26-5387-4bbb-b7f6-c606f9021a70</td>\n",
       "    </tr>\n",
       "    <tr>\n",
       "      <th>90</th>\n",
       "      <td>7812</td>\n",
       "      <td>2017-02-01 10:19:24</td>\n",
       "      <td>Hi Branch,by 7th i promise to make some paymen...</td>\n",
       "      <td>Adrian Oyoo</td>\n",
       "      <td>f815fa0b-b277-4ad6-ace1-490fef90ac4a</td>\n",
       "    </tr>\n",
       "    <tr>\n",
       "      <th>84</th>\n",
       "      <td>6515</td>\n",
       "      <td>2017-02-02 2:11:40</td>\n",
       "      <td>The weekly text rimindance</td>\n",
       "      <td>Peter Koskei</td>\n",
       "      <td>af335e5c-c780-4258-a12f-f49fc482c76f</td>\n",
       "    </tr>\n",
       "    <tr>\n",
       "      <th>70</th>\n",
       "      <td>4442</td>\n",
       "      <td>2017-02-02 15:31:06</td>\n",
       "      <td>Hi! Am sure acc details are correct. Have not ...</td>\n",
       "      <td>Patrick Kiptanui</td>\n",
       "      <td>d24aee16-730c-4d9b-9105-9dd4070c9c66</td>\n",
       "    </tr>\n",
       "  </tbody>\n",
       "</table>\n",
       "</div>"
      ],
      "text/plain": [
       "    User ID      Timestamp (UTC)  \\\n",
       "86     6884  2017-02-01 19:40:52   \n",
       "88     7457  2017-02-01 22:26:17   \n",
       "23     1481   2017-02-03 1:52:01   \n",
       "35     2126  2017-02-01 15:33:06   \n",
       "54     3112  2017-02-02 11:54:53   \n",
       "77     5297  2017-02-03 15:38:22   \n",
       "15     1155   2017-02-03 7:01:34   \n",
       "90     7812  2017-02-01 10:19:24   \n",
       "84     6515   2017-02-02 2:11:40   \n",
       "70     4442  2017-02-02 15:31:06   \n",
       "\n",
       "                                         Message Body              Name  \\\n",
       "86                           OK I have paid all of it   Yolanda Ochieng   \n",
       "88                                How do I get a loan     Andrew Obiero   \n",
       "23  Hello. Why can't you make the loan payment opt...       Erik Kosgei   \n",
       "35                        Why has loan been rejected?        Jake Owiti   \n",
       "54  Can I have direct contact thus I keep untouche...    James Kiplagat   \n",
       "77  it can't be 1264 had paid 400 earlier pls upda...  Christina Wambui   \n",
       "15  Hello,our salaries have been delayed but hopef...   Marvin Kiplagat   \n",
       "90  Hi Branch,by 7th i promise to make some paymen...       Adrian Oyoo   \n",
       "84                         The weekly text rimindance      Peter Koskei   \n",
       "70  Hi! Am sure acc details are correct. Have not ...  Patrick Kiptanui   \n",
       "\n",
       "                              Message ID  \n",
       "86  52a3bd79-43fa-451b-a862-2036703c993f  \n",
       "88  6ab3b5c3-cbe7-401d-b89a-4b4512ce5ecd  \n",
       "23  0eed2257-288c-4c8c-af99-18217cf1894d  \n",
       "35  98855882-9878-4f72-9069-90b0a8a43013  \n",
       "54  0b764fe7-e885-4477-bb3c-eeb431d96cb4  \n",
       "77  bb6dc14f-8556-4ec3-a395-d63b0e35bb64  \n",
       "15  8f930a26-5387-4bbb-b7f6-c606f9021a70  \n",
       "90  f815fa0b-b277-4ad6-ace1-490fef90ac4a  \n",
       "84  af335e5c-c780-4258-a12f-f49fc482c76f  \n",
       "70  d24aee16-730c-4d9b-9105-9dd4070c9c66  "
      ]
     },
     "execution_count": 51,
     "metadata": {},
     "output_type": "execute_result"
    }
   ],
   "source": [
    "messageIDs = []\n",
    "for index, row in df.iterrows():\n",
    "    messageID = uuid.uuid4()\n",
    "    messageIDs.append(messageID)\n",
    "\n",
    "df['Message ID'] = messageIDs\n",
    "df.sample(10)"
   ]
  },
  {
   "cell_type": "markdown",
   "metadata": {},
   "source": [
    "## 4. Shape data to mimic database schema that is in place \n",
    "- A message in the schema should have these fields: [content, messageid, name, timestamp, userid]\n",
    "- `timestamp` field should also be reformatted to be in Epoch time."
   ]
  },
  {
   "cell_type": "code",
   "execution_count": 52,
   "metadata": {},
   "outputs": [
    {
     "data": {
      "text/html": [
       "<div>\n",
       "<style scoped>\n",
       "    .dataframe tbody tr th:only-of-type {\n",
       "        vertical-align: middle;\n",
       "    }\n",
       "\n",
       "    .dataframe tbody tr th {\n",
       "        vertical-align: top;\n",
       "    }\n",
       "\n",
       "    .dataframe thead th {\n",
       "        text-align: right;\n",
       "    }\n",
       "</style>\n",
       "<table border=\"1\" class=\"dataframe\">\n",
       "  <thead>\n",
       "    <tr style=\"text-align: right;\">\n",
       "      <th></th>\n",
       "      <th>userid</th>\n",
       "      <th>timestamp</th>\n",
       "      <th>content</th>\n",
       "      <th>name</th>\n",
       "      <th>messageid</th>\n",
       "    </tr>\n",
       "  </thead>\n",
       "  <tbody>\n",
       "    <tr>\n",
       "      <th>0</th>\n",
       "      <td>208</td>\n",
       "      <td>2017-02-01 19:29:05</td>\n",
       "      <td>So it means if u pay ua loan before the due da...</td>\n",
       "      <td>Amber Wambui</td>\n",
       "      <td>4a373a53-644b-435b-93cd-e09be4ed90cd</td>\n",
       "    </tr>\n",
       "    <tr>\n",
       "      <th>1</th>\n",
       "      <td>208</td>\n",
       "      <td>2017-02-01 19:21:58</td>\n",
       "      <td>The dates of payment are still indicated n no ...</td>\n",
       "      <td>Amber Wambui</td>\n",
       "      <td>faa5618f-c444-4b7c-9bdf-91e57272b728</td>\n",
       "    </tr>\n",
       "    <tr>\n",
       "      <th>2</th>\n",
       "      <td>208</td>\n",
       "      <td>2017-02-01 19:21:18</td>\n",
       "      <td>Why was my application rejected</td>\n",
       "      <td>Amber Wambui</td>\n",
       "      <td>0737d603-0fcd-41bd-b4e8-7f370e39bf3b</td>\n",
       "    </tr>\n",
       "    <tr>\n",
       "      <th>3</th>\n",
       "      <td>208</td>\n",
       "      <td>2017-02-01 19:05:45</td>\n",
       "      <td>Hi branch I requested my number to remain the ...</td>\n",
       "      <td>Amber Wambui</td>\n",
       "      <td>91917bfe-a3c9-4cbb-ba81-83398f0bd959</td>\n",
       "    </tr>\n",
       "    <tr>\n",
       "      <th>4</th>\n",
       "      <td>218</td>\n",
       "      <td>2017-02-01 16:08:21</td>\n",
       "      <td>I said ill pay 5th esther camoon.. Infact you ...</td>\n",
       "      <td>Jennifer Kiplimo</td>\n",
       "      <td>6e7ef7c4-700f-48f5-bb4d-352e794f7b6f</td>\n",
       "    </tr>\n",
       "  </tbody>\n",
       "</table>\n",
       "</div>"
      ],
      "text/plain": [
       "   userid            timestamp  \\\n",
       "0     208  2017-02-01 19:29:05   \n",
       "1     208  2017-02-01 19:21:58   \n",
       "2     208  2017-02-01 19:21:18   \n",
       "3     208  2017-02-01 19:05:45   \n",
       "4     218  2017-02-01 16:08:21   \n",
       "\n",
       "                                             content              name  \\\n",
       "0  So it means if u pay ua loan before the due da...      Amber Wambui   \n",
       "1  The dates of payment are still indicated n no ...      Amber Wambui   \n",
       "2                    Why was my application rejected      Amber Wambui   \n",
       "3  Hi branch I requested my number to remain the ...      Amber Wambui   \n",
       "4  I said ill pay 5th esther camoon.. Infact you ...  Jennifer Kiplimo   \n",
       "\n",
       "                              messageid  \n",
       "0  4a373a53-644b-435b-93cd-e09be4ed90cd  \n",
       "1  faa5618f-c444-4b7c-9bdf-91e57272b728  \n",
       "2  0737d603-0fcd-41bd-b4e8-7f370e39bf3b  \n",
       "3  91917bfe-a3c9-4cbb-ba81-83398f0bd959  \n",
       "4  6e7ef7c4-700f-48f5-bb4d-352e794f7b6f  "
      ]
     },
     "execution_count": 52,
     "metadata": {},
     "output_type": "execute_result"
    }
   ],
   "source": [
    "df = df.rename(columns={'User ID':'userid','Message ID':'messageid','Name':'name','Message Body':'content', 'Timestamp (UTC)':'timestamp'})\n",
    "df.head(5)"
   ]
  },
  {
   "cell_type": "code",
   "execution_count": 53,
   "metadata": {},
   "outputs": [
    {
     "data": {
      "text/html": [
       "<div>\n",
       "<style scoped>\n",
       "    .dataframe tbody tr th:only-of-type {\n",
       "        vertical-align: middle;\n",
       "    }\n",
       "\n",
       "    .dataframe tbody tr th {\n",
       "        vertical-align: top;\n",
       "    }\n",
       "\n",
       "    .dataframe thead th {\n",
       "        text-align: right;\n",
       "    }\n",
       "</style>\n",
       "<table border=\"1\" class=\"dataframe\">\n",
       "  <thead>\n",
       "    <tr style=\"text-align: right;\">\n",
       "      <th></th>\n",
       "      <th>userid</th>\n",
       "      <th>timestamp</th>\n",
       "      <th>content</th>\n",
       "      <th>name</th>\n",
       "      <th>messageid</th>\n",
       "    </tr>\n",
       "  </thead>\n",
       "  <tbody>\n",
       "    <tr>\n",
       "      <th>65</th>\n",
       "      <td>3897</td>\n",
       "      <td>1486097801</td>\n",
       "      <td>I've settled many of your loans before please ...</td>\n",
       "      <td>John Kimani</td>\n",
       "      <td>400a9613-15dc-472d-8a93-76667b68bdc0</td>\n",
       "    </tr>\n",
       "    <tr>\n",
       "      <th>38</th>\n",
       "      <td>2780</td>\n",
       "      <td>1485896755</td>\n",
       "      <td>I cant access your services</td>\n",
       "      <td>Chelsey Odera</td>\n",
       "      <td>95aba012-55f8-4da7-928e-45395bb1f6c9</td>\n",
       "    </tr>\n",
       "    <tr>\n",
       "      <th>9</th>\n",
       "      <td>676</td>\n",
       "      <td>1486121005</td>\n",
       "      <td>Hi can i get the batch number pl</td>\n",
       "      <td>David Rotich</td>\n",
       "      <td>4e91a1dc-561b-48a3-aa74-34cf67d93a0d</td>\n",
       "    </tr>\n",
       "    <tr>\n",
       "      <th>31</th>\n",
       "      <td>2126</td>\n",
       "      <td>1485953492</td>\n",
       "      <td>If there is a way u can check the mpesa sms in...</td>\n",
       "      <td>Jake Owiti</td>\n",
       "      <td>a4936f82-649a-4654-8afc-fb3c7bfc2269</td>\n",
       "    </tr>\n",
       "    <tr>\n",
       "      <th>81</th>\n",
       "      <td>6054</td>\n",
       "      <td>1486125963</td>\n",
       "      <td>Hi, l have paid my loan on time but, my loan h...</td>\n",
       "      <td>Diane Kemei</td>\n",
       "      <td>9b244ab6-d43f-4e41-9d64-66e5248bd48b</td>\n",
       "    </tr>\n",
       "  </tbody>\n",
       "</table>\n",
       "</div>"
      ],
      "text/plain": [
       "    userid   timestamp                                            content  \\\n",
       "65    3897  1486097801  I've settled many of your loans before please ...   \n",
       "38    2780  1485896755                        I cant access your services   \n",
       "9      676  1486121005                   Hi can i get the batch number pl   \n",
       "31    2126  1485953492  If there is a way u can check the mpesa sms in...   \n",
       "81    6054  1486125963  Hi, l have paid my loan on time but, my loan h...   \n",
       "\n",
       "             name                             messageid  \n",
       "65    John Kimani  400a9613-15dc-472d-8a93-76667b68bdc0  \n",
       "38  Chelsey Odera  95aba012-55f8-4da7-928e-45395bb1f6c9  \n",
       "9    David Rotich  4e91a1dc-561b-48a3-aa74-34cf67d93a0d  \n",
       "31     Jake Owiti  a4936f82-649a-4654-8afc-fb3c7bfc2269  \n",
       "81    Diane Kemei  9b244ab6-d43f-4e41-9d64-66e5248bd48b  "
      ]
     },
     "execution_count": 53,
     "metadata": {},
     "output_type": "execute_result"
    }
   ],
   "source": [
    "# Converting all timestamp fields to Epoch time\n",
    "df['timestamp'] = df['timestamp'].apply(lambda x: int(datetime.strptime(x,'%Y-%m-%d %H:%M:%S').timestamp()))\n",
    "df.sample(5)"
   ]
  },
  {
   "cell_type": "markdown",
   "metadata": {},
   "source": [
    "## 5. Final Reformat to match Conversations Shape\n",
    "` conversation = {\n",
    "    agentuuid : agentid,\n",
    "    messages : [{content:messageContent, senderuuid: senderid, timestamp:timestamp}],\n",
    "    timestarted: timestamp, \n",
    "    username: name,\n",
    "    senderuuid : userid \n",
    "}\n",
    "`"
   ]
  },
  {
   "cell_type": "code",
   "execution_count": 56,
   "metadata": {},
   "outputs": [
    {
     "name": "stderr",
     "output_type": "stream",
     "text": [
      "/tmp/ipykernel_385901/2912375665.py:1: DeprecationWarning: DataFrameGroupBy.apply operated on the grouping columns. This behavior is deprecated, and in a future version of pandas the grouping columns will be excluded from the operation. Either pass `include_groups=False` to exclude the groupings or explicitly select the grouping columns after groupby to silence this warning.\n",
      "  grouped_df = df.groupby('userid').apply(lambda x: {\n"
     ]
    },
    {
     "data": {
      "text/plain": [
       "3     {'agentuuid': '', 'messages': [{'content': 'Hi...\n",
       "49    {'agentuuid': '', 'messages': [{'content': 'De...\n",
       "27    {'agentuuid': '', 'messages': [{'content': 'Th...\n",
       "54    {'agentuuid': '', 'messages': [{'content': 'So...\n",
       "28    {'agentuuid': '', 'messages': [{'content': 'Th...\n",
       "36    {'agentuuid': '', 'messages': [{'content': 'it...\n",
       "33    {'agentuuid': '', 'messages': [{'content': 'Me...\n",
       "35    {'agentuuid': '', 'messages': [{'content': 'Hi...\n",
       "51    {'agentuuid': '', 'messages': [{'content': 'I ...\n",
       "5     {'agentuuid': '', 'messages': [{'content': 'I ...\n",
       "dtype: object"
      ]
     },
     "execution_count": 56,
     "metadata": {},
     "output_type": "execute_result"
    }
   ],
   "source": [
    "grouped_df = df.groupby('userid').apply(lambda x: {\n",
    "    'agentuuid': \"\",\n",
    "    'messages': [{\n",
    "        'content': row['content'],\n",
    "        'senderuuid': row['userid'],\n",
    "        'timestamp': row['timestamp']\n",
    "    } for _, row in x.iterrows()],\n",
    "    'senderuuid': x.iloc[0]['userid'],\n",
    "    'timestarted': x.iloc[0]['timestamp'],\n",
    "    'username': x.iloc[0]['name']\n",
    "}).reset_index(drop=True)\n",
    "\n",
    "grouped_df.sample(10)"
   ]
  },
  {
   "cell_type": "code",
   "execution_count": 57,
   "metadata": {},
   "outputs": [],
   "source": [
    "grouped_df.to_json('final.json')"
   ]
  },
  {
   "cell_type": "markdown",
   "metadata": {},
   "source": [
    "And we are done, the data is now more presentable on the front end and easier to use. "
   ]
  }
 ],
 "metadata": {
  "kernelspec": {
   "display_name": "Python 3",
   "language": "python",
   "name": "python3"
  },
  "language_info": {
   "codemirror_mode": {
    "name": "ipython",
    "version": 3
   },
   "file_extension": ".py",
   "mimetype": "text/x-python",
   "name": "python",
   "nbconvert_exporter": "python",
   "pygments_lexer": "ipython3",
   "version": "3.12.2"
  }
 },
 "nbformat": 4,
 "nbformat_minor": 2
}
