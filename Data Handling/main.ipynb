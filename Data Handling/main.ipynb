{
 "cells": [
  {
   "cell_type": "markdown",
   "metadata": {},
   "source": [
    "## Objectives\n",
    "- Create random names for the messages\n",
    "- Create random message id's for the messages"
   ]
  },
  {
   "cell_type": "markdown",
   "metadata": {},
   "source": [
    "## 1. Read data and get Kenyan Names "
   ]
  },
  {
   "cell_type": "code",
   "execution_count": 55,
   "metadata": {},
   "outputs": [],
   "source": [
    "import pandas as pd\n",
    "from faker import Faker \n",
    "import random\n",
    "import uuid"
   ]
  },
  {
   "cell_type": "code",
   "execution_count": 69,
   "metadata": {},
   "outputs": [
    {
     "data": {
      "text/html": [
       "<div>\n",
       "<style scoped>\n",
       "    .dataframe tbody tr th:only-of-type {\n",
       "        vertical-align: middle;\n",
       "    }\n",
       "\n",
       "    .dataframe tbody tr th {\n",
       "        vertical-align: top;\n",
       "    }\n",
       "\n",
       "    .dataframe thead th {\n",
       "        text-align: right;\n",
       "    }\n",
       "</style>\n",
       "<table border=\"1\" class=\"dataframe\">\n",
       "  <thead>\n",
       "    <tr style=\"text-align: right;\">\n",
       "      <th></th>\n",
       "      <th>User ID</th>\n",
       "      <th>Timestamp (UTC)</th>\n",
       "      <th>Message Body</th>\n",
       "    </tr>\n",
       "  </thead>\n",
       "  <tbody>\n",
       "    <tr>\n",
       "      <th>0</th>\n",
       "      <td>208</td>\n",
       "      <td>2017-02-01 19:29:05</td>\n",
       "      <td>So it means if u pay ua loan before the due da...</td>\n",
       "    </tr>\n",
       "    <tr>\n",
       "      <th>1</th>\n",
       "      <td>208</td>\n",
       "      <td>2017-02-01 19:21:58</td>\n",
       "      <td>The dates of payment are still indicated n no ...</td>\n",
       "    </tr>\n",
       "    <tr>\n",
       "      <th>2</th>\n",
       "      <td>208</td>\n",
       "      <td>2017-02-01 19:21:18</td>\n",
       "      <td>Why was my application rejected</td>\n",
       "    </tr>\n",
       "    <tr>\n",
       "      <th>3</th>\n",
       "      <td>208</td>\n",
       "      <td>2017-02-01 19:05:45</td>\n",
       "      <td>Hi branch I requested my number to remain the ...</td>\n",
       "    </tr>\n",
       "    <tr>\n",
       "      <th>4</th>\n",
       "      <td>218</td>\n",
       "      <td>2017-02-01 16:08:21</td>\n",
       "      <td>I said ill pay 5th esther camoon.. Infact you ...</td>\n",
       "    </tr>\n",
       "    <tr>\n",
       "      <th>5</th>\n",
       "      <td>218</td>\n",
       "      <td>2017-02-01 14:07:37</td>\n",
       "      <td>I  will pay on sunday of 5th and i will pay al...</td>\n",
       "    </tr>\n",
       "    <tr>\n",
       "      <th>6</th>\n",
       "      <td>218</td>\n",
       "      <td>2017-02-01 12:07:07</td>\n",
       "      <td>I have a late source of salary i expected but ...</td>\n",
       "    </tr>\n",
       "    <tr>\n",
       "      <th>7</th>\n",
       "      <td>444</td>\n",
       "      <td>2017-02-02 15:57:36</td>\n",
       "      <td>I will clear my loan before 15nth,kindly bear ...</td>\n",
       "    </tr>\n",
       "    <tr>\n",
       "      <th>8</th>\n",
       "      <td>676</td>\n",
       "      <td>2017-02-03 14:23:45</td>\n",
       "      <td>Hi can i get the batch number</td>\n",
       "    </tr>\n",
       "    <tr>\n",
       "      <th>9</th>\n",
       "      <td>676</td>\n",
       "      <td>2017-02-03 14:23:25</td>\n",
       "      <td>Hi can i get the batch number pl</td>\n",
       "    </tr>\n",
       "  </tbody>\n",
       "</table>\n",
       "</div>"
      ],
      "text/plain": [
       "   User ID      Timestamp (UTC)  \\\n",
       "0      208  2017-02-01 19:29:05   \n",
       "1      208  2017-02-01 19:21:58   \n",
       "2      208  2017-02-01 19:21:18   \n",
       "3      208  2017-02-01 19:05:45   \n",
       "4      218  2017-02-01 16:08:21   \n",
       "5      218  2017-02-01 14:07:37   \n",
       "6      218  2017-02-01 12:07:07   \n",
       "7      444  2017-02-02 15:57:36   \n",
       "8      676  2017-02-03 14:23:45   \n",
       "9      676  2017-02-03 14:23:25   \n",
       "\n",
       "                                        Message Body  \n",
       "0  So it means if u pay ua loan before the due da...  \n",
       "1  The dates of payment are still indicated n no ...  \n",
       "2                    Why was my application rejected  \n",
       "3  Hi branch I requested my number to remain the ...  \n",
       "4  I said ill pay 5th esther camoon.. Infact you ...  \n",
       "5  I  will pay on sunday of 5th and i will pay al...  \n",
       "6  I have a late source of salary i expected but ...  \n",
       "7  I will clear my loan before 15nth,kindly bear ...  \n",
       "8                      Hi can i get the batch number  \n",
       "9                   Hi can i get the batch number pl  "
      ]
     },
     "execution_count": 69,
     "metadata": {},
     "output_type": "execute_result"
    }
   ],
   "source": [
    "df = pd.read_csv('GeneralistRails_Project_MessageData.csv')\n",
    "df.head(10)"
   ]
  },
  {
   "cell_type": "code",
   "execution_count": 71,
   "metadata": {},
   "outputs": [
    {
     "data": {
      "text/plain": [
       "(100, 3)"
      ]
     },
     "execution_count": 71,
     "metadata": {},
     "output_type": "execute_result"
    }
   ],
   "source": [
    "backup = df.copy()\n",
    "\n",
    "df.shape"
   ]
  },
  {
   "cell_type": "code",
   "execution_count": 75,
   "metadata": {},
   "outputs": [
    {
     "data": {
      "text/plain": [
       "(100, 3)"
      ]
     },
     "execution_count": 75,
     "metadata": {},
     "output_type": "execute_result"
    }
   ],
   "source": [
    "# Soft reset point\n",
    "df = backup.copy()\n",
    "df.shape"
   ]
  },
  {
   "cell_type": "markdown",
   "metadata": {},
   "source": [
    "Using Faker to fake first names and conjoin them with a list of kenyan ethnic names"
   ]
  },
  {
   "cell_type": "code",
   "execution_count": 36,
   "metadata": {},
   "outputs": [
    {
     "data": {
      "text/plain": [
       "'Kiplagat'"
      ]
     },
     "execution_count": 36,
     "metadata": {},
     "output_type": "execute_result"
    }
   ],
   "source": [
    "kenyanNames = pd.read_json('kenyan_names.json')\n",
    "# kenyanNames.shape\n",
    "kenyanNames['names'][1]"
   ]
  },
  {
   "cell_type": "code",
   "execution_count": 29,
   "metadata": {},
   "outputs": [
    {
     "data": {
      "text/plain": [
       "'Jonathan'"
      ]
     },
     "execution_count": 29,
     "metadata": {},
     "output_type": "execute_result"
    }
   ],
   "source": [
    "fk = Faker()\n",
    "fk.name().split(\" \")[0]"
   ]
  },
  {
   "cell_type": "markdown",
   "metadata": {},
   "source": [
    "## 2. Generating fake names for users"
   ]
  },
  {
   "cell_type": "code",
   "execution_count": 50,
   "metadata": {},
   "outputs": [],
   "source": [
    "def generateName():\n",
    "    name = fk.name().split(\" \")[0] + ' ' +  kenyanNames['names'][random.randint(0,84)]\n",
    "    return name"
   ]
  },
  {
   "cell_type": "markdown",
   "metadata": {},
   "source": [
    "Iterating through the dataset and adding the names. \n",
    "We also check if the user id is the same so that one user id has the same name."
   ]
  },
  {
   "cell_type": "code",
   "execution_count": 76,
   "metadata": {},
   "outputs": [
    {
     "data": {
      "text/html": [
       "<div>\n",
       "<style scoped>\n",
       "    .dataframe tbody tr th:only-of-type {\n",
       "        vertical-align: middle;\n",
       "    }\n",
       "\n",
       "    .dataframe tbody tr th {\n",
       "        vertical-align: top;\n",
       "    }\n",
       "\n",
       "    .dataframe thead th {\n",
       "        text-align: right;\n",
       "    }\n",
       "</style>\n",
       "<table border=\"1\" class=\"dataframe\">\n",
       "  <thead>\n",
       "    <tr style=\"text-align: right;\">\n",
       "      <th></th>\n",
       "      <th>User ID</th>\n",
       "      <th>Timestamp (UTC)</th>\n",
       "      <th>Message Body</th>\n",
       "      <th>Name</th>\n",
       "    </tr>\n",
       "  </thead>\n",
       "  <tbody>\n",
       "    <tr>\n",
       "      <th>65</th>\n",
       "      <td>3897</td>\n",
       "      <td>2017-02-03 7:56:41</td>\n",
       "      <td>I've settled many of your loans before please ...</td>\n",
       "      <td>Joel Kiplagat</td>\n",
       "    </tr>\n",
       "    <tr>\n",
       "      <th>92</th>\n",
       "      <td>7837</td>\n",
       "      <td>2017-02-01 6:07:30</td>\n",
       "      <td>Why was my loan request rejected and i have be...</td>\n",
       "      <td>Shelby Kimutai</td>\n",
       "    </tr>\n",
       "    <tr>\n",
       "      <th>43</th>\n",
       "      <td>2926</td>\n",
       "      <td>2017-02-03 22:42:26</td>\n",
       "      <td>Hi! I hope this will take you well, I cleared ...</td>\n",
       "      <td>Holly Kipchirchir</td>\n",
       "    </tr>\n",
       "    <tr>\n",
       "      <th>26</th>\n",
       "      <td>2035</td>\n",
       "      <td>2017-02-02 17:55:39</td>\n",
       "      <td>Someone used</td>\n",
       "      <td>David Kemei</td>\n",
       "    </tr>\n",
       "    <tr>\n",
       "      <th>23</th>\n",
       "      <td>1481</td>\n",
       "      <td>2017-02-03 1:52:01</td>\n",
       "      <td>Hello. Why can't you make the loan payment opt...</td>\n",
       "      <td>Lynn Ouma</td>\n",
       "    </tr>\n",
       "    <tr>\n",
       "      <th>97</th>\n",
       "      <td>8392</td>\n",
       "      <td>2017-02-02 13:51:56</td>\n",
       "      <td>I been with u For long an I made amistake but ...</td>\n",
       "      <td>Edward Oduor</td>\n",
       "    </tr>\n",
       "    <tr>\n",
       "      <th>64</th>\n",
       "      <td>3897</td>\n",
       "      <td>2017-02-03 8:15:33</td>\n",
       "      <td>I'm expecting to clear by date 8/2/2017</td>\n",
       "      <td>Joel Kiplagat</td>\n",
       "    </tr>\n",
       "    <tr>\n",
       "      <th>38</th>\n",
       "      <td>2780</td>\n",
       "      <td>2017-02-01 0:05:55</td>\n",
       "      <td>I cant access your services</td>\n",
       "      <td>Jennifer Ochieng'</td>\n",
       "    </tr>\n",
       "    <tr>\n",
       "      <th>98</th>\n",
       "      <td>8647</td>\n",
       "      <td>2017-02-01 15:53:24</td>\n",
       "      <td>Sorry,I meant December 2016</td>\n",
       "      <td>Michael Ndung'u</td>\n",
       "    </tr>\n",
       "    <tr>\n",
       "      <th>56</th>\n",
       "      <td>3112</td>\n",
       "      <td>2017-02-02 11:40:55</td>\n",
       "      <td>Dis is keynan,can u kindly forward ma details ...</td>\n",
       "      <td>Noah Omondi</td>\n",
       "    </tr>\n",
       "  </tbody>\n",
       "</table>\n",
       "</div>"
      ],
      "text/plain": [
       "    User ID      Timestamp (UTC)  \\\n",
       "65     3897   2017-02-03 7:56:41   \n",
       "92     7837   2017-02-01 6:07:30   \n",
       "43     2926  2017-02-03 22:42:26   \n",
       "26     2035  2017-02-02 17:55:39   \n",
       "23     1481   2017-02-03 1:52:01   \n",
       "97     8392  2017-02-02 13:51:56   \n",
       "64     3897   2017-02-03 8:15:33   \n",
       "38     2780   2017-02-01 0:05:55   \n",
       "98     8647  2017-02-01 15:53:24   \n",
       "56     3112  2017-02-02 11:40:55   \n",
       "\n",
       "                                         Message Body               Name  \n",
       "65  I've settled many of your loans before please ...      Joel Kiplagat  \n",
       "92  Why was my loan request rejected and i have be...     Shelby Kimutai  \n",
       "43  Hi! I hope this will take you well, I cleared ...  Holly Kipchirchir  \n",
       "26                                       Someone used        David Kemei  \n",
       "23  Hello. Why can't you make the loan payment opt...          Lynn Ouma  \n",
       "97  I been with u For long an I made amistake but ...       Edward Oduor  \n",
       "64            I'm expecting to clear by date 8/2/2017      Joel Kiplagat  \n",
       "38                        I cant access your services  Jennifer Ochieng'  \n",
       "98                        Sorry,I meant December 2016    Michael Ndung'u  \n",
       "56  Dis is keynan,can u kindly forward ma details ...        Noah Omondi  "
      ]
     },
     "execution_count": 76,
     "metadata": {},
     "output_type": "execute_result"
    }
   ],
   "source": [
    "names = {}\n",
    "for index, row in df.iterrows():\n",
    "        user_id = row['User ID']\n",
    "        if user_id not in names:\n",
    "            names[user_id] = generateName()  # Generate a name if not already generated for this user ID\n",
    "        df.at[index, 'Name'] = names[user_id]\n",
    "\n",
    "df.sample(10)"
   ]
  },
  {
   "cell_type": "markdown",
   "metadata": {},
   "source": [
    "## 3. Generating random Message ID's for each message "
   ]
  },
  {
   "cell_type": "code",
   "execution_count": 77,
   "metadata": {},
   "outputs": [
    {
     "data": {
      "text/html": [
       "<div>\n",
       "<style scoped>\n",
       "    .dataframe tbody tr th:only-of-type {\n",
       "        vertical-align: middle;\n",
       "    }\n",
       "\n",
       "    .dataframe tbody tr th {\n",
       "        vertical-align: top;\n",
       "    }\n",
       "\n",
       "    .dataframe thead th {\n",
       "        text-align: right;\n",
       "    }\n",
       "</style>\n",
       "<table border=\"1\" class=\"dataframe\">\n",
       "  <thead>\n",
       "    <tr style=\"text-align: right;\">\n",
       "      <th></th>\n",
       "      <th>User ID</th>\n",
       "      <th>Timestamp (UTC)</th>\n",
       "      <th>Message Body</th>\n",
       "      <th>Name</th>\n",
       "      <th>Message ID</th>\n",
       "    </tr>\n",
       "  </thead>\n",
       "  <tbody>\n",
       "    <tr>\n",
       "      <th>66</th>\n",
       "      <td>3897</td>\n",
       "      <td>2017-02-03 7:46:47</td>\n",
       "      <td>Hi branch kindly let me sort out the issue in ...</td>\n",
       "      <td>Joel Kiplagat</td>\n",
       "      <td>718421bf-604e-4893-9428-0d7188080379</td>\n",
       "    </tr>\n",
       "    <tr>\n",
       "      <th>17</th>\n",
       "      <td>1245</td>\n",
       "      <td>2017-02-03 16:28:35</td>\n",
       "      <td>Hi, kindly can i have the batch number</td>\n",
       "      <td>Debra Obura</td>\n",
       "      <td>d0a11dee-7036-4d88-94f2-4aa8452ae858</td>\n",
       "    </tr>\n",
       "    <tr>\n",
       "      <th>86</th>\n",
       "      <td>6884</td>\n",
       "      <td>2017-02-01 19:40:52</td>\n",
       "      <td>OK I have paid all of it</td>\n",
       "      <td>Jennifer Ogutu</td>\n",
       "      <td>52459c92-e520-4526-a692-4d017406fcda</td>\n",
       "    </tr>\n",
       "    <tr>\n",
       "      <th>5</th>\n",
       "      <td>218</td>\n",
       "      <td>2017-02-01 14:07:37</td>\n",
       "      <td>I  will pay on sunday of 5th and i will pay al...</td>\n",
       "      <td>Peter Obiero</td>\n",
       "      <td>13b6191b-4684-400b-8f9a-060e6d356d3f</td>\n",
       "    </tr>\n",
       "    <tr>\n",
       "      <th>96</th>\n",
       "      <td>8125</td>\n",
       "      <td>2017-02-01 2:20:12</td>\n",
       "      <td>Will pay be4 15th</td>\n",
       "      <td>Jeffrey Omollo</td>\n",
       "      <td>831dfa2a-6dba-4340-b5e5-a4e4493de2f1</td>\n",
       "    </tr>\n",
       "    <tr>\n",
       "      <th>95</th>\n",
       "      <td>8101</td>\n",
       "      <td>2017-02-01 9:43:04</td>\n",
       "      <td>I have been trying this app for a long period....</td>\n",
       "      <td>Christopher Ogada</td>\n",
       "      <td>40a3adc4-d925-46fc-813d-59af2b43f09c</td>\n",
       "    </tr>\n",
       "    <tr>\n",
       "      <th>26</th>\n",
       "      <td>2035</td>\n",
       "      <td>2017-02-02 17:55:39</td>\n",
       "      <td>Someone used</td>\n",
       "      <td>David Kemei</td>\n",
       "      <td>e3e2be47-5fae-46a1-8439-c0d9250c4c93</td>\n",
       "    </tr>\n",
       "    <tr>\n",
       "      <th>1</th>\n",
       "      <td>208</td>\n",
       "      <td>2017-02-01 19:21:58</td>\n",
       "      <td>The dates of payment are still indicated n no ...</td>\n",
       "      <td>Patrick Kiprop</td>\n",
       "      <td>5211322f-ee81-46f9-8f3d-5f54f73d34e1</td>\n",
       "    </tr>\n",
       "    <tr>\n",
       "      <th>42</th>\n",
       "      <td>2884</td>\n",
       "      <td>2017-02-01 7:56:47</td>\n",
       "      <td>I hv my transaction messages with me y am i no...</td>\n",
       "      <td>Joshua Ochieng'</td>\n",
       "      <td>1411c826-372b-419c-806b-a4b3e61091c2</td>\n",
       "    </tr>\n",
       "    <tr>\n",
       "      <th>59</th>\n",
       "      <td>3701</td>\n",
       "      <td>2017-02-01 12:27:31</td>\n",
       "      <td>Do I have any other loan that I didn't pay</td>\n",
       "      <td>Jill Koech</td>\n",
       "      <td>6b9ee248-66c3-45df-9b96-91c07ff82ab4</td>\n",
       "    </tr>\n",
       "  </tbody>\n",
       "</table>\n",
       "</div>"
      ],
      "text/plain": [
       "    User ID      Timestamp (UTC)  \\\n",
       "66     3897   2017-02-03 7:46:47   \n",
       "17     1245  2017-02-03 16:28:35   \n",
       "86     6884  2017-02-01 19:40:52   \n",
       "5       218  2017-02-01 14:07:37   \n",
       "96     8125   2017-02-01 2:20:12   \n",
       "95     8101   2017-02-01 9:43:04   \n",
       "26     2035  2017-02-02 17:55:39   \n",
       "1       208  2017-02-01 19:21:58   \n",
       "42     2884   2017-02-01 7:56:47   \n",
       "59     3701  2017-02-01 12:27:31   \n",
       "\n",
       "                                         Message Body               Name  \\\n",
       "66  Hi branch kindly let me sort out the issue in ...      Joel Kiplagat   \n",
       "17             Hi, kindly can i have the batch number        Debra Obura   \n",
       "86                           OK I have paid all of it     Jennifer Ogutu   \n",
       "5   I  will pay on sunday of 5th and i will pay al...       Peter Obiero   \n",
       "96                                  Will pay be4 15th     Jeffrey Omollo   \n",
       "95  I have been trying this app for a long period....  Christopher Ogada   \n",
       "26                                       Someone used        David Kemei   \n",
       "1   The dates of payment are still indicated n no ...     Patrick Kiprop   \n",
       "42  I hv my transaction messages with me y am i no...    Joshua Ochieng'   \n",
       "59         Do I have any other loan that I didn't pay         Jill Koech   \n",
       "\n",
       "                              Message ID  \n",
       "66  718421bf-604e-4893-9428-0d7188080379  \n",
       "17  d0a11dee-7036-4d88-94f2-4aa8452ae858  \n",
       "86  52459c92-e520-4526-a692-4d017406fcda  \n",
       "5   13b6191b-4684-400b-8f9a-060e6d356d3f  \n",
       "96  831dfa2a-6dba-4340-b5e5-a4e4493de2f1  \n",
       "95  40a3adc4-d925-46fc-813d-59af2b43f09c  \n",
       "26  e3e2be47-5fae-46a1-8439-c0d9250c4c93  \n",
       "1   5211322f-ee81-46f9-8f3d-5f54f73d34e1  \n",
       "42  1411c826-372b-419c-806b-a4b3e61091c2  \n",
       "59  6b9ee248-66c3-45df-9b96-91c07ff82ab4  "
      ]
     },
     "execution_count": 77,
     "metadata": {},
     "output_type": "execute_result"
    }
   ],
   "source": [
    "messageIDs = []\n",
    "for index, row in df.iterrows():\n",
    "    messageID = uuid.uuid4()\n",
    "    messageIDs.append(messageID)\n",
    "\n",
    "df['Message ID'] = messageIDs\n",
    "df.sample(10)"
   ]
  },
  {
   "cell_type": "markdown",
   "metadata": {},
   "source": [
    "And we are done, the data is now more presentable on the front end and easier to use."
   ]
  }
 ],
 "metadata": {
  "kernelspec": {
   "display_name": "Python 3",
   "language": "python",
   "name": "python3"
  },
  "language_info": {
   "codemirror_mode": {
    "name": "ipython",
    "version": 3
   },
   "file_extension": ".py",
   "mimetype": "text/x-python",
   "name": "python",
   "nbconvert_exporter": "python",
   "pygments_lexer": "ipython3",
   "version": "3.12.2"
  }
 },
 "nbformat": 4,
 "nbformat_minor": 2
}
