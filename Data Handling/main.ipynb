{
 "cells": [
  {
   "cell_type": "markdown",
   "metadata": {},
   "source": [
    "## Objectives\n",
    "- Create random names for the messages\n",
    "- Create random message id's for the messages"
   ]
  },
  {
   "cell_type": "markdown",
   "metadata": {},
   "source": [
    "## 1. Read data and get Kenyan Names "
   ]
  },
  {
   "cell_type": "code",
   "execution_count": 40,
   "metadata": {},
   "outputs": [],
   "source": [
    "import pandas as pd\n",
    "from faker import Faker \n",
    "import random\n",
    "import uuid"
   ]
  },
  {
   "cell_type": "code",
   "execution_count": 4,
   "metadata": {},
   "outputs": [
    {
     "data": {
      "text/html": [
       "<div>\n",
       "<style scoped>\n",
       "    .dataframe tbody tr th:only-of-type {\n",
       "        vertical-align: middle;\n",
       "    }\n",
       "\n",
       "    .dataframe tbody tr th {\n",
       "        vertical-align: top;\n",
       "    }\n",
       "\n",
       "    .dataframe thead th {\n",
       "        text-align: right;\n",
       "    }\n",
       "</style>\n",
       "<table border=\"1\" class=\"dataframe\">\n",
       "  <thead>\n",
       "    <tr style=\"text-align: right;\">\n",
       "      <th></th>\n",
       "      <th>User ID</th>\n",
       "      <th>Timestamp (UTC)</th>\n",
       "      <th>Message Body</th>\n",
       "    </tr>\n",
       "  </thead>\n",
       "  <tbody>\n",
       "    <tr>\n",
       "      <th>0</th>\n",
       "      <td>208</td>\n",
       "      <td>2017-02-01 19:29:05</td>\n",
       "      <td>So it means if u pay ua loan before the due da...</td>\n",
       "    </tr>\n",
       "    <tr>\n",
       "      <th>1</th>\n",
       "      <td>208</td>\n",
       "      <td>2017-02-01 19:21:58</td>\n",
       "      <td>The dates of payment are still indicated n no ...</td>\n",
       "    </tr>\n",
       "    <tr>\n",
       "      <th>2</th>\n",
       "      <td>208</td>\n",
       "      <td>2017-02-01 19:21:18</td>\n",
       "      <td>Why was my application rejected</td>\n",
       "    </tr>\n",
       "    <tr>\n",
       "      <th>3</th>\n",
       "      <td>208</td>\n",
       "      <td>2017-02-01 19:05:45</td>\n",
       "      <td>Hi branch I requested my number to remain the ...</td>\n",
       "    </tr>\n",
       "    <tr>\n",
       "      <th>4</th>\n",
       "      <td>218</td>\n",
       "      <td>2017-02-01 16:08:21</td>\n",
       "      <td>I said ill pay 5th esther camoon.. Infact you ...</td>\n",
       "    </tr>\n",
       "    <tr>\n",
       "      <th>5</th>\n",
       "      <td>218</td>\n",
       "      <td>2017-02-01 14:07:37</td>\n",
       "      <td>I  will pay on sunday of 5th and i will pay al...</td>\n",
       "    </tr>\n",
       "    <tr>\n",
       "      <th>6</th>\n",
       "      <td>218</td>\n",
       "      <td>2017-02-01 12:07:07</td>\n",
       "      <td>I have a late source of salary i expected but ...</td>\n",
       "    </tr>\n",
       "    <tr>\n",
       "      <th>7</th>\n",
       "      <td>444</td>\n",
       "      <td>2017-02-02 15:57:36</td>\n",
       "      <td>I will clear my loan before 15nth,kindly bear ...</td>\n",
       "    </tr>\n",
       "    <tr>\n",
       "      <th>8</th>\n",
       "      <td>676</td>\n",
       "      <td>2017-02-03 14:23:45</td>\n",
       "      <td>Hi can i get the batch number</td>\n",
       "    </tr>\n",
       "    <tr>\n",
       "      <th>9</th>\n",
       "      <td>676</td>\n",
       "      <td>2017-02-03 14:23:25</td>\n",
       "      <td>Hi can i get the batch number pl</td>\n",
       "    </tr>\n",
       "  </tbody>\n",
       "</table>\n",
       "</div>"
      ],
      "text/plain": [
       "   User ID      Timestamp (UTC)  \\\n",
       "0      208  2017-02-01 19:29:05   \n",
       "1      208  2017-02-01 19:21:58   \n",
       "2      208  2017-02-01 19:21:18   \n",
       "3      208  2017-02-01 19:05:45   \n",
       "4      218  2017-02-01 16:08:21   \n",
       "5      218  2017-02-01 14:07:37   \n",
       "6      218  2017-02-01 12:07:07   \n",
       "7      444  2017-02-02 15:57:36   \n",
       "8      676  2017-02-03 14:23:45   \n",
       "9      676  2017-02-03 14:23:25   \n",
       "\n",
       "                                        Message Body  \n",
       "0  So it means if u pay ua loan before the due da...  \n",
       "1  The dates of payment are still indicated n no ...  \n",
       "2                    Why was my application rejected  \n",
       "3  Hi branch I requested my number to remain the ...  \n",
       "4  I said ill pay 5th esther camoon.. Infact you ...  \n",
       "5  I  will pay on sunday of 5th and i will pay al...  \n",
       "6  I have a late source of salary i expected but ...  \n",
       "7  I will clear my loan before 15nth,kindly bear ...  \n",
       "8                      Hi can i get the batch number  \n",
       "9                   Hi can i get the batch number pl  "
      ]
     },
     "execution_count": 4,
     "metadata": {},
     "output_type": "execute_result"
    }
   ],
   "source": [
    "df = pd.read_csv('GeneralistRails_Project_MessageData.csv')\n",
    "df.head(10)"
   ]
  },
  {
   "cell_type": "code",
   "execution_count": 7,
   "metadata": {},
   "outputs": [
    {
     "data": {
      "text/plain": [
       "(100, 3)"
      ]
     },
     "execution_count": 7,
     "metadata": {},
     "output_type": "execute_result"
    }
   ],
   "source": [
    "backup = df.copy()\n",
    "\n",
    "df.shape"
   ]
  },
  {
   "cell_type": "markdown",
   "metadata": {},
   "source": [
    "Using Faker to fake first names and conjoin them with a list of kenyan ethnic names"
   ]
  },
  {
   "cell_type": "code",
   "execution_count": 36,
   "metadata": {},
   "outputs": [
    {
     "data": {
      "text/plain": [
       "'Kiplagat'"
      ]
     },
     "execution_count": 36,
     "metadata": {},
     "output_type": "execute_result"
    }
   ],
   "source": [
    "kenyanNames = pd.read_json('kenyan_names.json')\n",
    "# kenyanNames.shape\n",
    "kenyanNames['names'][1]"
   ]
  },
  {
   "cell_type": "code",
   "execution_count": 29,
   "metadata": {},
   "outputs": [
    {
     "data": {
      "text/plain": [
       "'Jonathan'"
      ]
     },
     "execution_count": 29,
     "metadata": {},
     "output_type": "execute_result"
    }
   ],
   "source": [
    "fk = Faker()\n",
    "fk.name().split(\" \")[0]"
   ]
  },
  {
   "cell_type": "markdown",
   "metadata": {},
   "source": [
    "## 2. Generating fake names for users"
   ]
  },
  {
   "cell_type": "code",
   "execution_count": 50,
   "metadata": {},
   "outputs": [],
   "source": [
    "def generateName():\n",
    "    name = fk.name().split(\" \")[0] + ' ' +  kenyanNames['names'][random.randint(0,84)]\n",
    "    return name"
   ]
  },
  {
   "cell_type": "markdown",
   "metadata": {},
   "source": [
    "Iterating through the dataset and adding the names. \n",
    "We also check if the user id is the same so that one user id has the same name."
   ]
  },
  {
   "cell_type": "code",
   "execution_count": 53,
   "metadata": {},
   "outputs": [
    {
     "data": {
      "text/html": [
       "<div>\n",
       "<style scoped>\n",
       "    .dataframe tbody tr th:only-of-type {\n",
       "        vertical-align: middle;\n",
       "    }\n",
       "\n",
       "    .dataframe tbody tr th {\n",
       "        vertical-align: top;\n",
       "    }\n",
       "\n",
       "    .dataframe thead th {\n",
       "        text-align: right;\n",
       "    }\n",
       "</style>\n",
       "<table border=\"1\" class=\"dataframe\">\n",
       "  <thead>\n",
       "    <tr style=\"text-align: right;\">\n",
       "      <th></th>\n",
       "      <th>User ID</th>\n",
       "      <th>Timestamp (UTC)</th>\n",
       "      <th>Message Body</th>\n",
       "      <th>name</th>\n",
       "      <th>Name</th>\n",
       "    </tr>\n",
       "  </thead>\n",
       "  <tbody>\n",
       "    <tr>\n",
       "      <th>60</th>\n",
       "      <td>3701</td>\n",
       "      <td>2017-02-01 12:26:40</td>\n",
       "      <td>Why don't you want to give me a loan</td>\n",
       "      <td>Kyle Ouma</td>\n",
       "      <td>Luis Waithaka</td>\n",
       "    </tr>\n",
       "    <tr>\n",
       "      <th>65</th>\n",
       "      <td>3897</td>\n",
       "      <td>2017-02-03 7:56:41</td>\n",
       "      <td>I've settled many of your loans before please ...</td>\n",
       "      <td>Dr. Ogutu</td>\n",
       "      <td>Kimberly Kimaiyo</td>\n",
       "    </tr>\n",
       "    <tr>\n",
       "      <th>59</th>\n",
       "      <td>3701</td>\n",
       "      <td>2017-02-01 12:27:31</td>\n",
       "      <td>Do I have any other loan that I didn't pay</td>\n",
       "      <td>Traci Kiptanui</td>\n",
       "      <td>Luis Waithaka</td>\n",
       "    </tr>\n",
       "    <tr>\n",
       "      <th>33</th>\n",
       "      <td>2126</td>\n",
       "      <td>2017-02-01 15:47:10</td>\n",
       "      <td>What SMSs should i accumulate on my phone?</td>\n",
       "      <td>Steven Ochieng</td>\n",
       "      <td>Erin Koech</td>\n",
       "    </tr>\n",
       "    <tr>\n",
       "      <th>66</th>\n",
       "      <td>3897</td>\n",
       "      <td>2017-02-03 7:46:47</td>\n",
       "      <td>Hi branch kindly let me sort out the issue in ...</td>\n",
       "      <td>Jonathan Chebet</td>\n",
       "      <td>Kimberly Kimaiyo</td>\n",
       "    </tr>\n",
       "    <tr>\n",
       "      <th>55</th>\n",
       "      <td>3112</td>\n",
       "      <td>2017-02-02 11:52:37</td>\n",
       "      <td>Am still getting from another financial instit...</td>\n",
       "      <td>Kelly Warigia</td>\n",
       "      <td>Kristin Chemweno</td>\n",
       "    </tr>\n",
       "    <tr>\n",
       "      <th>80</th>\n",
       "      <td>5724</td>\n",
       "      <td>2017-02-03 6:53:55</td>\n",
       "      <td>Some lady from brunch calls me n starts to abu...</td>\n",
       "      <td>Nicole Waweru</td>\n",
       "      <td>David Koskei</td>\n",
       "    </tr>\n",
       "    <tr>\n",
       "      <th>27</th>\n",
       "      <td>2035</td>\n",
       "      <td>2017-02-02 5:59:11</td>\n",
       "      <td>What am i supposed to do after paying in order...</td>\n",
       "      <td>Linda Maina</td>\n",
       "      <td>Richard Mutua</td>\n",
       "    </tr>\n",
       "    <tr>\n",
       "      <th>87</th>\n",
       "      <td>7140</td>\n",
       "      <td>2017-02-02 13:06:55</td>\n",
       "      <td>Why cant i have a loan now yet i have cleared ...</td>\n",
       "      <td>Travis Mwangi</td>\n",
       "      <td>Patrick Oduor</td>\n",
       "    </tr>\n",
       "    <tr>\n",
       "      <th>37</th>\n",
       "      <td>2517</td>\n",
       "      <td>2017-02-01 18:06:50</td>\n",
       "      <td>I forwarded my certificate of clearance from t...</td>\n",
       "      <td>Gina Kibet</td>\n",
       "      <td>Shawn Ogada</td>\n",
       "    </tr>\n",
       "  </tbody>\n",
       "</table>\n",
       "</div>"
      ],
      "text/plain": [
       "    User ID      Timestamp (UTC)  \\\n",
       "60     3701  2017-02-01 12:26:40   \n",
       "65     3897   2017-02-03 7:56:41   \n",
       "59     3701  2017-02-01 12:27:31   \n",
       "33     2126  2017-02-01 15:47:10   \n",
       "66     3897   2017-02-03 7:46:47   \n",
       "55     3112  2017-02-02 11:52:37   \n",
       "80     5724   2017-02-03 6:53:55   \n",
       "27     2035   2017-02-02 5:59:11   \n",
       "87     7140  2017-02-02 13:06:55   \n",
       "37     2517  2017-02-01 18:06:50   \n",
       "\n",
       "                                         Message Body             name  \\\n",
       "60               Why don't you want to give me a loan        Kyle Ouma   \n",
       "65  I've settled many of your loans before please ...        Dr. Ogutu   \n",
       "59         Do I have any other loan that I didn't pay   Traci Kiptanui   \n",
       "33         What SMSs should i accumulate on my phone?   Steven Ochieng   \n",
       "66  Hi branch kindly let me sort out the issue in ...  Jonathan Chebet   \n",
       "55  Am still getting from another financial instit...    Kelly Warigia   \n",
       "80  Some lady from brunch calls me n starts to abu...    Nicole Waweru   \n",
       "27  What am i supposed to do after paying in order...      Linda Maina   \n",
       "87  Why cant i have a loan now yet i have cleared ...    Travis Mwangi   \n",
       "37  I forwarded my certificate of clearance from t...       Gina Kibet   \n",
       "\n",
       "                Name  \n",
       "60     Luis Waithaka  \n",
       "65  Kimberly Kimaiyo  \n",
       "59     Luis Waithaka  \n",
       "33        Erin Koech  \n",
       "66  Kimberly Kimaiyo  \n",
       "55  Kristin Chemweno  \n",
       "80      David Koskei  \n",
       "27     Richard Mutua  \n",
       "87     Patrick Oduor  \n",
       "37       Shawn Ogada  "
      ]
     },
     "execution_count": 53,
     "metadata": {},
     "output_type": "execute_result"
    }
   ],
   "source": [
    "names = {}\n",
    "for index, row in df.iterrows():\n",
    "        user_id = row['User ID']\n",
    "        if user_id not in names:\n",
    "            names[user_id] = generateName()  # Generate a name if not already generated for this user ID\n",
    "        df.at[index, 'Name'] = names[user_id]\n",
    "\n",
    "df.sample(10)"
   ]
  },
  {
   "cell_type": "markdown",
   "metadata": {},
   "source": [
    "## 3. Generating random Message ID's for each message "
   ]
  },
  {
   "cell_type": "code",
   "execution_count": null,
   "metadata": {},
   "outputs": [],
   "source": [
    "for index, row in df.iterrows():\n",
    "    messageID = uuid.uuid4()"
   ]
  }
 ],
 "metadata": {
  "kernelspec": {
   "display_name": "Python 3",
   "language": "python",
   "name": "python3"
  },
  "language_info": {
   "codemirror_mode": {
    "name": "ipython",
    "version": 3
   },
   "file_extension": ".py",
   "mimetype": "text/x-python",
   "name": "python",
   "nbconvert_exporter": "python",
   "pygments_lexer": "ipython3",
   "version": "3.12.2"
  }
 },
 "nbformat": 4,
 "nbformat_minor": 2
}
